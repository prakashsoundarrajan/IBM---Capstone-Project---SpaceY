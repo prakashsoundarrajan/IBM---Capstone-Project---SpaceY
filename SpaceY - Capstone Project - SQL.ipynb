{
 "cells": [
  {
   "cell_type": "code",
   "execution_count": null,
   "id": "a7394c7e",
   "metadata": {},
   "outputs": [],
   "source": [
    "import sqlserver as ss \n",
    "db = ss.sqlserver('localhost','1433','SpaceX','admin','admin')"
   ]
  },
  {
   "cell_type": "code",
   "execution_count": null,
   "id": "19c3cf58",
   "metadata": {},
   "outputs": [],
   "source": [
    "db.GetRecordsOfColumn('select DISTINCT Launch_Site from tblSpaceX','Launch_Site')"
   ]
  },
  {
   "cell_type": "code",
   "execution_count": null,
   "id": "2ae79c6a",
   "metadata": {},
   "outputs": [],
   "source": [
    "import pyodbc\n",
    "import pandas as pd \n",
    "import numpy as np\n",
    "conn = pyodbc.connect('Driver={SQL Server};'\n",
    "                                  'Server=localhost;'\n",
    "                                  'Database=SpaceX;'\n",
    "                                  'User ID=admin;Password=admin;')\n",
    "cursor = conn.cursor()\n",
    "\n",
    "cursor.execute(\"select TOP 5 * from tblSpaceX WHERE Launch_Site LIKE 'KSC%'\")\n",
    "columns = [column[0] for column in cursor.description]\n",
    "results = []\n",
    "for row in cursor.fetchall():   \n",
    "     results.append(dict(zip(columns, row)))\n",
    "\n",
    "df = pd.DataFrame.from_dict(results)\n",
    "df"
   ]
  },
  {
   "cell_type": "code",
   "execution_count": null,
   "id": "36e079ad",
   "metadata": {},
   "outputs": [],
   "source": [
    "TPM = db.GetRecordsOfColumn(\"select SUM(PAYLOAD_MASS_KG_) TotalPayloadMass from tblSpaceX where Customer = 'NASA (CRS)'\",'TotalPayloadMass')\n",
    "ndf= pd.DataFrame(TPM)\n",
    "ndf.columns = ['Total Payload Mass']\n",
    "ndf"
   ]
  },
  {
   "cell_type": "code",
   "execution_count": null,
   "id": "6c9efb0f",
   "metadata": {},
   "outputs": [],
   "source": [
    "APM = db.GetRecordsOfColumn(\"select AVG(PAYLOAD_MASS_KG_) AveragePayloadMass from tblSpaceX where Booster_Version = 'F9 v1.1'\",'AveragePayloadMass')\n",
    "ndf= pd.DataFrame(APM)\n",
    "ndf.columns = ['Average Payload Mass']\n",
    "ndf"
   ]
  },
  {
   "cell_type": "code",
   "execution_count": null,
   "id": "f5c7984a",
   "metadata": {},
   "outputs": [],
   "source": [
    "SLO = db.GetRecordsOfColumn(\"select MIN(Date) SLO from tblSpaceX where Landing_Outcome = 'Success (drone ship)'\",'SLO')\n",
    "ndf= pd.DataFrame(SLO)\n",
    "ndf.columns = ['Date which first Successful landing outcome in drone ship was acheived.']\n",
    "ndf"
   ]
  },
  {
   "cell_type": "code",
   "execution_count": null,
   "id": "dd593bf0",
   "metadata": {},
   "outputs": [],
   "source": [
    "SLO = db.GetRecordsOfColumn(\"select Booster_Version from tblSpaceX where Landing_Outcome = 'Success (ground pad)' AND Payload_MASS_KG_ > 4000 AND Payload_MASS_KG_ < 6000\",'Booster_Version')\n",
    "ndf= pd.DataFrame(SLO)\n",
    "ndf.columns = ['Date which first Successful landing outcome in drone ship was acheived.']\n",
    "ndf"
   ]
  },
  {
   "cell_type": "code",
   "execution_count": null,
   "id": "4fac8bca",
   "metadata": {},
   "outputs": [],
   "source": [
    "conn = pyodbc.connect('Driver={SQL Server};'\n",
    "                                  'Server=localhost;'\n",
    "                                  'Database=SpaceX;'\n",
    "                                  'User ID=admin;Password=admin;')\n",
    "cursor = conn.cursor()\n",
    "\n",
    "cursor.execute(\"SELECT(SELECT Count(Mission_Outcome) from tblSpaceX where Mission_Outcome LIKE '%Success%') as Successful_Mission_Outcomes,(SELECT Count(Mission_Outcome) from tblSpaceX where Mission_Outcome LIKE '%Failure%') as Failure_Mission_Outcomes\")\n",
    "columns = [column[0] for column in cursor.description]\n",
    "results = []\n",
    "for row in cursor.fetchall():   \n",
    "     results.append(dict(zip(columns, row)))\n",
    "\n",
    "df = pd.DataFrame.from_dict(results)\n",
    "df"
   ]
  },
  {
   "cell_type": "code",
   "execution_count": null,
   "id": "36b29bb6",
   "metadata": {},
   "outputs": [],
   "source": [
    "conn = pyodbc.connect('Driver={SQL Server};'\n",
    "                                  'Server=localhost;'\n",
    "                                  'Database=SpaceX;'\n",
    "                                  'User ID=admin;Password=admin;')\n",
    "cursor = conn.cursor()\n",
    "\n",
    "cursor.execute(\"SELECT DISTINCT Booster_Version, MAX(PAYLOAD_MASS_KG_) AS [Maximum Payload Mass] FROM tblSpaceX GROUP BY Booster_Version ORDER BY [Maximum Payload Mass] DESC\")\n",
    "columns = [column[0] for column in cursor.description]\n",
    "results = []\n",
    "for row in cursor.fetchall():   \n",
    "     results.append(dict(zip(columns, row)))\n",
    "\n",
    "df = pd.DataFrame.from_dict(results)\n",
    "df"
   ]
  },
  {
   "cell_type": "code",
   "execution_count": null,
   "id": "c6879310",
   "metadata": {},
   "outputs": [],
   "source": [
    "conn = pyodbc.connect('Driver={SQL Server};'\n",
    "                                  'Server=localhost;'\n",
    "                                  'Database=SpaceX;'\n",
    "                                  'User ID=admin;Password=admin;')\n",
    "cursor = conn.cursor()\n",
    "\n",
    "cursor.execute(\"SELECT   DateName( month , DateAdd( month , MONTH(CONVERT(date,Date, 105)) , 0 ) - 1 )  as Month, Booster_Version, Launch_Site, Landing_Outcome FROM tblSpaceX WHERE  (Landing_Outcome LIKE N'%Success%') AND YEAR(CONVERT(date,Date, 105)) = '2017'\")\n",
    "columns = [column[0] for column in cursor.description]\n",
    "results = []\n",
    "for row in cursor.fetchall():   \n",
    "     results.append(dict(zip(columns, row)))\n",
    "\n",
    "df = pd.DataFrame.from_dict(results)\n",
    "df"
   ]
  },
  {
   "cell_type": "code",
   "execution_count": null,
   "id": "0803a318",
   "metadata": {},
   "outputs": [],
   "source": [
    "sl = db.GetRecordsOfColumn(\"SELECT COUNT(Landing_Outcome) AS sl FROM dbo.tblSpaceX WHERE (Landing_Outcome LIKE '%Success%') AND (Date >'04-06-2010') AND (Date < '20-03-2017')\",'sl')\n",
    "\n",
    "ndf= pd.DataFrame(sl)\n",
    "ndf.columns = ['Successful Landing Outcomes Between 2010-06-04 and 2017-03-20']\n",
    "ndf"
   ]
  }
 ],
 "metadata": {
  "kernelspec": {
   "display_name": "Python 3 (ipykernel)",
   "language": "python",
   "name": "python3"
  },
  "language_info": {
   "codemirror_mode": {
    "name": "ipython",
    "version": 3
   },
   "file_extension": ".py",
   "mimetype": "text/x-python",
   "name": "python",
   "nbconvert_exporter": "python",
   "pygments_lexer": "ipython3",
   "version": "3.9.7"
  }
 },
 "nbformat": 4,
 "nbformat_minor": 5
}
